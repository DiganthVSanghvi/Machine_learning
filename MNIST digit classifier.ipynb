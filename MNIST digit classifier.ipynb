{
 "cells": [
  {
   "cell_type": "code",
   "execution_count": 29,
   "metadata": {},
   "outputs": [],
   "source": [
    "## Importing libraries"
   ]
  },
  {
   "cell_type": "code",
   "execution_count": 22,
   "metadata": {},
   "outputs": [
    {
     "name": "stderr",
     "output_type": "stream",
     "text": [
      "<frozen importlib._bootstrap>:219: RuntimeWarning: numpy.ufunc size changed, may indicate binary incompatibility. Expected 192 from C header, got 216 from PyObject\n",
      "<frozen importlib._bootstrap>:219: RuntimeWarning: numpy.ufunc size changed, may indicate binary incompatibility. Expected 192 from C header, got 216 from PyObject\n"
     ]
    }
   ],
   "source": [
    "\n",
    "import numpy as np\n",
    "import pandas as pd\n",
    "import matplotlib as mpl\n",
    "import matplotlib.pyplot as plt\n",
    "from sklearn.linear_model import SGDClassifier\n",
    "from sklearn.neighbors import KNeighborsClassifier\n",
    "from sklearn.metrics import confusion_matrix, accuracy_score\n",
    "from sklearn.metrics import classification_report"
   ]
  },
  {
   "cell_type": "code",
   "execution_count": 8,
   "metadata": {},
   "outputs": [
    {
     "data": {
      "text/plain": [
       "dict_keys(['data', 'target', 'frame', 'categories', 'feature_names', 'target_names', 'DESCR', 'details', 'url'])"
      ]
     },
     "execution_count": 8,
     "metadata": {},
     "output_type": "execute_result"
    }
   ],
   "source": [
    "from sklearn.datasets import fetch_openml\n",
    "mnist = fetch_openml(\"mnist_784\",version=1)\n",
    "mnist.keys()"
   ]
  },
  {
   "cell_type": "code",
   "execution_count": 3,
   "metadata": {},
   "outputs": [],
   "source": [
    "X,y =mnist[\"data\"],mnist[\"target\"]"
   ]
  },
  {
   "cell_type": "code",
   "execution_count": 4,
   "metadata": {},
   "outputs": [
    {
     "data": {
      "text/plain": [
       "(70000, 784)"
      ]
     },
     "execution_count": 4,
     "metadata": {},
     "output_type": "execute_result"
    }
   ],
   "source": [
    "X.shape"
   ]
  },
  {
   "cell_type": "code",
   "execution_count": 5,
   "metadata": {},
   "outputs": [
    {
     "data": {
      "text/plain": [
       "(70000,)"
      ]
     },
     "execution_count": 5,
     "metadata": {},
     "output_type": "execute_result"
    }
   ],
   "source": [
    "y.shape"
   ]
  },
  {
   "cell_type": "code",
   "execution_count": 32,
   "metadata": {},
   "outputs": [],
   "source": [
    "some_digit = X[34578]\n",
    "some_digit_image = some_digit.reshape(28,28)\n"
   ]
  },
  {
   "cell_type": "code",
   "execution_count": 33,
   "metadata": {},
   "outputs": [
    {
     "data": {
      "image/png": "[encoded data removed]",
      "text/plain": [
       "<Figure size 432x288 with 1 Axes>"
      ]
     },
     "metadata": {
      "needs_background": "light"
     },
     "output_type": "display_data"
    }
   ],
   "source": [
    "plt.imshow(some_digit_image,cmap=mpl.cm.binary,interpolation=\"nearest\")\n",
    "plt.axis(\"off\")\n",
    "plt.show()"
   ]
  },
  {
   "cell_type": "code",
   "execution_count": 36,
   "metadata": {},
   "outputs": [
    {
     "data": {
      "text/plain": [
       "6"
      ]
     },
     "execution_count": 36,
     "metadata": {},
     "output_type": "execute_result"
    }
   ],
   "source": [
    "y[0]\n",
    "y =y.astype(np.uint8)\n",
    "y[34578]"
   ]
  },
  {
   "cell_type": "code",
   "execution_count": 15,
   "metadata": {},
   "outputs": [],
   "source": [
    "X_train,X_test,y_train,y_test=X[0:60000],X[60000:0],y[0:60000],y[60000:0]"
   ]
  },
  {
   "cell_type": "code",
   "execution_count": 16,
   "metadata": {},
   "outputs": [],
   "source": [
    "shuffle_index = np.random.permutations(60000)\n",
    "X_train,y_train= X_train[shuffle_index],y_train[shuffle_index]"
   ]
  },
  {
   "cell_type": "code",
   "execution_count": 25,
   "metadata": {},
   "outputs": [
    {
     "name": "stdout",
     "output_type": "stream",
     "text": [
      "Accuracy:  0.9691\n",
      "Confusion Matrix:\n",
      " [[ 973    1    1    0    0    1    3    1    0    0]\n",
      " [   0 1129    3    0    1    1    1    0    0    0]\n",
      " [   7    6  992    5    1    0    2   16    3    0]\n",
      " [   0    1    2  970    1   19    0    7    7    3]\n",
      " [   0    7    0    0  944    0    3    5    1   22]\n",
      " [   1    1    0   12    2  860    5    1    6    4]\n",
      " [   4    2    0    0    3    5  944    0    0    0]\n",
      " [   0   14    6    2    4    0    0  992    0   10]\n",
      " [   6    1    3   14    5   13    3    4  920    5]\n",
      " [   2    5    1    6   10    5    1   11    1  967]]\n",
      "\n",
      "---------------\n",
      "\n",
      "Accuracy:  0.9627\n",
      "Confusion Matrix:\n",
      " [[ 976    1    1    0    0    1    0    1    0    0]\n",
      " [   0 1133    2    0    0    0    0    0    0    0]\n",
      " [  11   10  995    1    2    0    0   12    1    0]\n",
      " [   1    1    8  981    1    9    0    6    2    1]\n",
      " [   3    7    0    0  959    0    2    3    0    8]\n",
      " [   6    2    0   25    2  850    2    1    1    3]\n",
      " [   7    3    0    0    5    4  939    0    0    0]\n",
      " [   0   29    8    2    3    0    0  981    0    5]\n",
      " [  10    2    8   28    9   29    4    5  876    3]\n",
      " [   6    6    3    9   19    4    1   22    2  937]]\n",
      "\n",
      "---------------\n",
      "\n",
      "Accuracy:  0.9705\n",
      "Confusion Matrix:\n",
      " [[ 974    1    1    0    0    1    2    1    0    0]\n",
      " [   0 1133    2    0    0    0    0    0    0    0]\n",
      " [  10    9  996    2    0    0    0   13    2    0]\n",
      " [   0    2    4  976    1   13    1    7    3    3]\n",
      " [   1    6    0    0  950    0    4    2    0   19]\n",
      " [   6    1    0   11    2  859    5    1    3    4]\n",
      " [   5    3    0    0    3    3  944    0    0    0]\n",
      " [   0   21    5    0    1    0    0  991    0   10]\n",
      " [   8    2    4   16    8   11    3    4  914    4]\n",
      " [   4    5    2    8    9    2    1    8    2  968]]\n",
      "\n",
      "---------------\n",
      "\n",
      "Accuracy:  0.9682\n",
      "Confusion Matrix:\n",
      " [[ 976    1    1    0    0    1    0    1    0    0]\n",
      " [   0 1133    2    0    0    0    0    0    0    0]\n",
      " [  11    8  993    1    1    0    0   16    2    0]\n",
      " [   0    2    5  979    1   10    1    7    2    3]\n",
      " [   3    9    0    0  952    0    4    1    0   13]\n",
      " [   4    0    0   17    2  862    5    1    0    1]\n",
      " [   6    3    0    0    4    3  942    0    0    0]\n",
      " [   0   23    5    0    5    0    0  988    0    7]\n",
      " [   9    3    5   16    6   19    5    5  902    4]\n",
      " [   4    6    3    6   13    4    1   16    1  955]]\n",
      "\n",
      "---------------\n",
      "\n",
      "Accuracy:  0.9688\n",
      "Confusion Matrix:\n",
      " [[ 974    1    1    0    0    1    2    1    0    0]\n",
      " [   0 1133    2    0    0    0    0    0    0    0]\n",
      " [  11    8  991    2    1    0    1   15    3    0]\n",
      " [   0    3    3  976    1   13    1    6    3    4]\n",
      " [   3    7    0    0  944    0    4    2    1   21]\n",
      " [   5    0    0   12    2  862    4    1    2    4]\n",
      " [   5    3    0    0    3    2  945    0    0    0]\n",
      " [   0   22    4    0    3    0    0  988    0   11]\n",
      " [   8    3    5   13    6   12    5    5  913    4]\n",
      " [   5    7    3    9    7    3    1   10    2  962]]\n",
      "\n",
      "---------------\n",
      "\n",
      "Accuracy:  0.9677\n",
      "Confusion Matrix:\n",
      " [[ 975    1    1    0    0    1    1    1    0    0]\n",
      " [   0 1132    2    0    0    0    1    0    0    0]\n",
      " [  12   11  985    2    1    0    2   15    4    0]\n",
      " [   0    3    3  978    1   10    1    8    3    3]\n",
      " [   2    7    0    0  953    0    4    1    1   14]\n",
      " [   6    0    0   14    2  862    3    1    1    3]\n",
      " [   6    4    0    0    3    2  943    0    0    0]\n",
      " [   0   26    4    0    2    0    0  987    0    9]\n",
      " [   7    4    5   16    8   12    5    6  906    5]\n",
      " [   6    7    3    7   12    3    1   12    2  956]]\n",
      "\n",
      "---------------\n",
      "\n",
      "Accuracy:  0.9694\n",
      "Confusion Matrix:\n",
      " [[ 974    1    1    0    0    1    2    1    0    0]\n",
      " [   0 1133    2    0    0    0    0    0    0    0]\n",
      " [  11    8  988    2    1    0    2   16    4    0]\n",
      " [   0    3    2  976    1   12    1    7    4    4]\n",
      " [   1    8    0    0  945    0    5    1    1   21]\n",
      " [   5    0    0    8    2  866    4    1    2    4]\n",
      " [   6    3    0    0    3    2  944    0    0    0]\n",
      " [   0   25    3    0    1    0    0  989    0   10]\n",
      " [   6    4    6   11    7   12    1    6  916    5]\n",
      " [   5    6    3    6    8    4    1   11    2  963]]\n",
      "\n",
      "---------------\n",
      "\n",
      "Accuracy:  0.967\n",
      "Confusion Matrix:\n",
      " [[ 973    1    1    0    0    1    3    1    0    0]\n",
      " [   0 1132    2    0    0    0    1    0    0    0]\n",
      " [  13   14  980    2    1    0    2   16    4    0]\n",
      " [   0    3    2  976    1   12    1    7    4    4]\n",
      " [   2   11    0    0  943    0    5    1    1   19]\n",
      " [   5    0    0    9    2  868    4    1    1    2]\n",
      " [   6    4    0    0    3    2  943    0    0    0]\n",
      " [   0   28    4    0    2    0    0  985    0    9]\n",
      " [   6    5    4   14    8   13    3    7  910    4]\n",
      " [   7    7    2    7   11    3    1    9    2  960]]\n",
      "\n",
      "---------------\n",
      "\n"
     ]
    }
   ],
   "source": [
    "score=[]\n",
    "for k in range (1,9):\n",
    "    classifier = KNeighborsClassifier(n_neighbors=k)\n",
    "    classifier = classifier.fit(X_train.reshape(X_train.shape[0], 28*28), y_train)\n",
    "    pred = classifier.predict(X_test.reshape(X_test.shape[0], 28*28))\n",
    "    accuracy = accuracy_score(y_test, pred)\n",
    "    score.append(accuracy)\n",
    "    print(\"Accuracy: \",accuracy)\n",
    "    print(\"Confusion Matrix:\\n\", confusion_matrix(y_test, pred))\n",
    "    print(\"\\n---------------\\n\")\n",
    "    "
   ]
  },
  {
   "cell_type": "code",
   "execution_count": 26,
   "metadata": {},
   "outputs": [
    {
     "data": {
      "image/png": "[encoded data removed]",
      "text/plain": [
       "<Figure size 432x288 with 1 Axes>"
      ]
     },
     "metadata": {
      "needs_background": "light"
     },
     "output_type": "display_data"
    }
   ],
   "source": [
    "plt.plot(range(1,9), score)\n",
    "plt.title('Determining the Optimal Number of Neighbors')\n",
    "plt.xlabel('K - Number of Neighbors')\n",
    "plt.ylabel('Accuracy')\n",
    "plt.show()\n"
   ]
  },
  {
   "cell_type": "code",
   "execution_count": 27,
   "metadata": {},
   "outputs": [],
   "source": [
    "    classifier = KNeighborsClassifier(n_neighbors=3)\n",
    "    classifier = classifier.fit(X.reshape(X_train.shape[0], 28*28), y)\n",
    "    pred = classifier.predict(X.reshape(X_test.shape[0], 28*28))"
   ]
  },
  {
   "cell_type": "code",
   "execution_count": 28,
   "metadata": {},
   "outputs": [
    {
     "name": "stdout",
     "output_type": "stream",
     "text": [
      "              precision    recall  f1-score   support\n",
      "\n",
      "           0       0.99      0.97      0.98      1008\n",
      "           1       1.00      0.96      0.98      1183\n",
      "           2       0.97      0.98      0.97      1014\n",
      "           3       0.97      0.96      0.96      1013\n",
      "           4       0.97      0.98      0.97       974\n",
      "           5       0.96      0.97      0.96       889\n",
      "           6       0.99      0.98      0.98       960\n",
      "           7       0.96      0.96      0.96      1027\n",
      "           8       0.94      0.99      0.96       924\n",
      "           9       0.96      0.96      0.96      1008\n",
      "\n",
      "    accuracy                           0.97     10000\n",
      "   macro avg       0.97      0.97      0.97     10000\n",
      "weighted avg       0.97      0.97      0.97     10000\n",
      "\n"
     ]
    }
   ],
   "source": [
    "print(classification_report(pred, y_test))"
   ]
  },
  {
   "cell_type": "code",
   "execution_count": null,
   "metadata": {},
   "outputs": [],
   "source": [
    "pred = classifier.predict(X.reshape(X.shape[0], 28*28))"
   ]
  },
  {
   "cell_type": "code",
   "execution_count": null,
   "metadata": {},
   "outputs": [],
   "source": []
  }
 ],
 "metadata": {
  "kernelspec": {
   "display_name": "Python 3",
   "language": "python",
   "name": "python3"
  },
  "language_info": {
   "codemirror_mode": {
    "name": "ipython",
    "version": 3
   },
   "file_extension": ".py",
   "mimetype": "text/x-python",
   "name": "python",
   "nbconvert_exporter": "python",
   "pygments_lexer": "ipython3",
   "version": "3.8.5"
  }
 },
 "nbformat": 4,
 "nbformat_minor": 4
}
